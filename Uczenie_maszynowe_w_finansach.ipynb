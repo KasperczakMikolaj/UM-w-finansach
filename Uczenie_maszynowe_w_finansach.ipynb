{
  "nbformat": 4,
  "nbformat_minor": 0,
  "metadata": {
    "colab": {
      "provenance": [],
      "authorship_tag": "ABX9TyM1UvQycVqDGAslxudSA15t",
      "include_colab_link": true
    },
    "kernelspec": {
      "name": "python3",
      "display_name": "Python 3"
    },
    "language_info": {
      "name": "python"
    }
  },
  "cells": [
    {
      "cell_type": "markdown",
      "metadata": {
        "id": "view-in-github",
        "colab_type": "text"
      },
      "source": [
        "<a href=\"https://colab.research.google.com/github/KasperczakMikolaj/UM-w-finansach/blob/main/Uczenie_maszynowe_w_finansach.ipynb\" target=\"_parent\"><img src=\"https://colab.research.google.com/assets/colab-badge.svg\" alt=\"Open In Colab\"/></a>"
      ]
    },
    {
      "cell_type": "code",
      "execution_count": 3,
      "metadata": {
        "id": "a-SrQPaBxxS5"
      },
      "outputs": [],
      "source": [
        "import pandas as pd\n",
        "from sklearn.impute import SimpleImputer\n",
        "from sklearn.decomposition import PCA\n",
        "from imblearn.over_sampling import SMOTE"
      ]
    },
    {
      "cell_type": "code",
      "source": [
        "df = pd.read_csv('case1.csv', delimiter=';')\n",
        "\n",
        "df_filtered = df.loc[:, df.columns[3]:df.columns[-3]]"
      ],
      "metadata": {
        "id": "d8-3BuB7IWeo"
      },
      "execution_count": 4,
      "outputs": []
    },
    {
      "cell_type": "code",
      "source": [
        "imputer = SimpleImputer(strategy='median')\n",
        "dane = imputer.fit_transform(df_filtered)\n",
        "\n",
        "dane = pd.DataFrame(dane, columns=df_filtered.columns)\n",
        "\n",
        "dane = dane.loc[:, (dane != 0).any(axis=0)]\n",
        "pca = PCA(n_components=9)\n",
        "data_reduced = pca.fit_transform(dane)\n",
        "\n",
        "smote_balanced = SMOTE(sampling_strategy='auto')\n",
        "data_reduced_X_balanced, data_reduced_Y_balanced = smote_balanced.fit_resample(data_reduced, dane['FLAG'])\n",
        "\n",
        "print(\"Wyniki po przetwarzaniu:\")\n",
        "print(\"Zredukowane wymiary danych po PCA:\")\n",
        "print(data_reduced)\n",
        "print(\"\\nZbilansowane dane X po oversamplingu:\")\n",
        "print(data_reduced_X_balanced)\n",
        "print(\"\\nZbilansowane dane Y po oversamplingu:\")\n",
        "print(data_reduced_Y_balanced)"
      ],
      "metadata": {
        "colab": {
          "base_uri": "https://localhost:8080/"
        },
        "id": "TSIbZthCIwsa",
        "outputId": "0f43b4bf-2fd8-40d5-d5c2-1f4b006337f9"
      },
      "execution_count": 5,
      "outputs": [
        {
          "output_type": "stream",
          "name": "stdout",
          "text": [
            "Wyniki po przetwarzaniu:\n",
            "Zredukowane wymiary danych po PCA:\n",
            "[[-1.29304376e+08  1.66891149e+07 -1.91718607e+06 ... -1.22573562e+04\n",
            "   4.55639423e+05  1.05303176e+04]\n",
            " [-1.65076791e+08 -1.83547883e+07 -1.97518124e+06 ...  1.46125616e+03\n",
            "   1.00068586e+06  2.72592953e+04]\n",
            " [-1.65076654e+08 -1.83547914e+07 -1.97521493e+06 ... -9.15649460e+03\n",
            "   3.03119766e+05  9.85258442e+03]\n",
            " ...\n",
            " [-1.65075209e+08 -1.83547911e+07 -1.97501225e+06 ... -1.28781776e+04\n",
            "   4.46509531e+04  3.35302805e+03]\n",
            " [-1.65077337e+08 -1.83547909e+07 -1.97530152e+06 ... -1.69006342e+04\n",
            "  -2.16829858e+05 -3.20315207e+03]\n",
            " [-1.65020576e+08 -1.83547841e+07 -1.97428011e+06 ...  1.51970442e+04\n",
            "   4.53877966e+05  4.96579531e+03]]\n",
            "\n",
            "Zbilansowane dane X po oversamplingu:\n",
            "[[-1.29304376e+08  1.66891149e+07 -1.91718607e+06 ... -1.22573562e+04\n",
            "   4.55639423e+05  1.05303176e+04]\n",
            " [-1.65076791e+08 -1.83547883e+07 -1.97518124e+06 ...  1.46125616e+03\n",
            "   1.00068586e+06  2.72592953e+04]\n",
            " [-1.65076654e+08 -1.83547914e+07 -1.97521493e+06 ... -9.15649460e+03\n",
            "   3.03119766e+05  9.85258442e+03]\n",
            " ...\n",
            " [-1.65077337e+08 -1.83547909e+07 -1.97530152e+06 ... -1.69010106e+04\n",
            "  -2.16829869e+05 -3.20254456e+03]\n",
            " [-1.65077335e+08 -1.83547909e+07 -1.97530021e+06 ... -1.69010106e+04\n",
            "  -2.16829869e+05 -3.20254455e+03]\n",
            " [-1.65077215e+08 -1.83547913e+07 -1.97519017e+06 ... -9.55056458e+03\n",
            "   2.69267917e+05  8.96003961e+03]]\n",
            "\n",
            "Zbilansowane dane Y po oversamplingu:\n",
            "0        0.0\n",
            "1        0.0\n",
            "2        0.0\n",
            "3        0.0\n",
            "4        0.0\n",
            "        ... \n",
            "15319    1.0\n",
            "15320    1.0\n",
            "15321    1.0\n",
            "15322    1.0\n",
            "15323    1.0\n",
            "Name: FLAG, Length: 15324, dtype: float64\n"
          ]
        }
      ]
    }
  ]
}